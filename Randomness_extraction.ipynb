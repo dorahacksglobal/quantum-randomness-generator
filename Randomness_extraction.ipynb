{
 "cells": [
  {
   "cell_type": "code",
   "execution_count": 50,
   "id": "3a83e059",
   "metadata": {},
   "outputs": [
    {
     "name": "stdout",
     "output_type": "stream",
     "text": [
      "399224\n"
     ]
    }
   ],
   "source": [
    "import numpy as np\n",
    "\n",
    "# import raw data\n",
    "a0b0_raw = np.loadtxt(\"rigetti_a0b0_raw.txt\", dtype = int)\n",
    "a0b1_raw = np.loadtxt(\"rigetti_a0b1_raw.txt\", dtype = int)\n",
    "a1b0_raw = np.loadtxt(\"rigetti_a1b0_raw.txt\", dtype = int)\n",
    "a1b1_raw = np.loadtxt(\"rigetti_a1b1_raw.txt\", dtype = int)\n",
    "\n",
    "# random basis selection in Alice and Bob\n",
    "finalResult = np.array([], dtype = int)\n",
    "trial = 0\n",
    "rng = np.random.default_rng()\n",
    "while len(a0b0_raw)>0 and len(a0b1_raw)>0 and len(a1b0_raw)>0 and len(a1b1_raw)>0:\n",
    "    trial = trial + 1\n",
    "    randomBasis = rng.integers(2, size = 2)\n",
    "    if (randomBasis == [0, 0]).all():\n",
    "        value, a0b0_raw = a0b0_raw[0], a0b0_raw[1:]\n",
    "    elif (randomBasis == [0, 1]).all():\n",
    "        value, a0b1_raw = a0b1_raw[0], a0b1_raw[1:]\n",
    "    elif (randomBasis == [1, 0]).all():\n",
    "        value, a1b0_raw = a1b0_raw[0], a1b0_raw[1:]\n",
    "    elif (randomBasis == [1, 1]).all():\n",
    "        value, a1b1_raw = a1b1_raw[0], a1b1_raw[1:]\n",
    "    else:\n",
    "        pass\n",
    "    finalResult = np.append(finalResult, value)\n",
    "print(trial)"
   ]
  },
  {
   "cell_type": "code",
   "execution_count": 74,
   "id": "83d4a762",
   "metadata": {},
   "outputs": [],
   "source": [
    "finalResult = np.concatenate([finalResult, a0b0_raw.flatten(), a0b1_raw.flatten(), a1b0_raw.flatten(), a1b1_raw.flatten()])"
   ]
  },
  {
   "cell_type": "code",
   "execution_count": 83,
   "id": "4f36dc41",
   "metadata": {},
   "outputs": [
    {
     "name": "stdout",
     "output_type": "stream",
     "text": [
      "74305\n"
     ]
    }
   ],
   "source": [
    "minentropy = 0.1857636178627975\n",
    "extractnum = np.round(4E5 * minentropy).astype(int)\n",
    "print(extractnum)"
   ]
  },
  {
   "cell_type": "code",
   "execution_count": 81,
   "id": "7fc64046",
   "metadata": {},
   "outputs": [],
   "source": [
    "from scipy.linalg import toeplitz, matmul_toeplitz\n",
    "mc = rng.integers(2, size = extractnum)\n",
    "mr = rng.integers(2, size = len(finalResult))\n",
    "result = np.remainder(matmul_toeplitz((mc, mr), finalResult), 2).astype('int8')"
   ]
  },
  {
   "cell_type": "code",
   "execution_count": 92,
   "id": "ece1259a",
   "metadata": {},
   "outputs": [],
   "source": [
    "np.savetxt('regetti_DIQRNG.txt', result, fmt=\"%i\")"
   ]
  },
  {
   "cell_type": "code",
   "execution_count": null,
   "id": "f73af072",
   "metadata": {},
   "outputs": [],
   "source": []
  }
 ],
 "metadata": {
  "kernelspec": {
   "display_name": "Python 3 (ipykernel)",
   "language": "python",
   "name": "python3"
  },
  "language_info": {
   "codemirror_mode": {
    "name": "ipython",
    "version": 3
   },
   "file_extension": ".py",
   "mimetype": "text/x-python",
   "name": "python",
   "nbconvert_exporter": "python",
   "pygments_lexer": "ipython3",
   "version": "3.10.10"
  }
 },
 "nbformat": 4,
 "nbformat_minor": 5
}
