{
 "cells": [
  {
   "cell_type": "code",
   "execution_count": 12,
   "id": "a19e2296",
   "metadata": {},
   "outputs": [
    {
     "name": "stdout",
     "output_type": "stream",
     "text": [
      "State: \n",
      "0.429             0.0162-i0.042     -0.0165+i0.0121   0.41+i0.0136      \n",
      "0.0162+i0.042     0.0235            -0.0346-i0.0138   1.19e-03+i0.0191  \n",
      "-0.0165-i0.0121   -0.0346+i0.0138   0.0668            0.0203+i0.0199    \n",
      "0.41-i0.0136      1.19e-03-i0.0191  0.0203-i0.0199    0.48              \n",
      "intensity : 1.00e+03\n",
      "fval : 112.0\n",
      "concurrence : 0.756\n",
      "tangle : 0.572\n",
      "entropy : 0.641\n",
      "linear_entropy : 0.232\n",
      "negativity : 0.736\n",
      "purity : 0.767\n",
      "----------------\n",
      "Fidelity with actual : 0.865337014118357\n"
     ]
    }
   ],
   "source": [
    "# dependency package: https://github.com/KwiatLab/Quantum-Tomography\n",
    "import QuantumTomography as qLib\n",
    "import numpy as np\n",
    "\n",
    "# Coincidence counts for 9 measurements, XX->ZZ, 4 detectors\n",
    "coincidence_counts = np.array([[428,  39, 101, 432],\n",
    "       [241, 219, 324, 216],\n",
    "       [245, 280, 232, 243],\n",
    "       [234, 180, 308, 278],\n",
    "       [ 27, 454, 508,  11],\n",
    "       [225, 218, 272, 285],\n",
    "       [242, 210, 290, 258],\n",
    "       [221, 233, 184, 362],\n",
    "       [436,  14,  66, 484]])\n",
    "\n",
    "# Measurement basis definition for 9 measurements\n",
    "measurements = np.array([[0.70710678+0j, 0.70710678+0j,  0.70710678+0j,  0.70710678+0j],\n",
    "                         [0.70710678+0j, 0.70710678+0j,  0.70710678+0j,  0.70710678j],\n",
    "                         [0.70710678+0j, 0.70710678+0j,  1+0j,0j],\n",
    "                         [0.70710678+0j, 0.70710678j,    0.70710678+0j,  0.70710678+0j],\n",
    "                         [0.70710678+0j, 0.70710678j,    0.70710678+0j,  0.7071067811865476j],\n",
    "                         [0.70710678+0j, 0.70710678j,    1+0j,   0j],\n",
    "                         [1+0j,  0j, 0.70710678+0j,  0.7071067811865476+0j],\n",
    "                         [1+0j,  0j, 0.70710678+0j,  0.70710678j],\n",
    "                         [1+0j, 0j, 1+0j, 0j],])\n",
    "\n",
    "# Initiate tomography object\n",
    "tomo_obj = qLib.Tomography()\n",
    "\n",
    "# Run tomography\n",
    "[rho_approx,intensity,fval] = tomo_obj.StateTomography(measurements,coincidence_counts)\n",
    "\n",
    "# Print Results\n",
    "tomo_obj.printLastOutput()\n",
    "print('----------------')\n",
    "bell_state = 1/np.sqrt(2) * np.array([1,0,0,1],dtype=complex)\n",
    "print('Fidelity with actual : ' + str(qLib.fidelity(bell_state,rho_approx)))"
   ]
  },
  {
   "cell_type": "code",
   "execution_count": 14,
   "id": "0b94843a",
   "metadata": {},
   "outputs": [
    {
     "data": {
      "text/plain": [
       "array([[ 0.42917078-4.87180686e-19j,  0.0162136 -4.20073770e-02j,\n",
       "        -0.0165443 +1.21553200e-02j,  0.41053064+1.36874853e-02j],\n",
       "       [ 0.0162136 +4.20073770e-02j,  0.02357586-2.37773200e-20j,\n",
       "        -0.03460284-1.38635112e-02j,  0.00119354+1.91837806e-02j],\n",
       "       [-0.0165443 -1.21553200e-02j, -0.03460284+1.38635112e-02j,\n",
       "         0.0668114 -1.86593596e-20j,  0.02037094+1.99030838e-02j],\n",
       "       [ 0.41053064-1.36874853e-02j,  0.00119354-1.91837806e-02j,\n",
       "         0.02037094-1.99030838e-02j,  0.48044197+5.29617365e-19j]])"
      ]
     },
     "execution_count": 14,
     "metadata": {},
     "output_type": "execute_result"
    }
   ],
   "source": [
    "rho_approx"
   ]
  },
  {
   "cell_type": "code",
   "execution_count": 13,
   "id": "bb9315d8",
   "metadata": {},
   "outputs": [
    {
     "data": {
      "text/plain": [
       "(array([8.68737411e-01+8.85547383e-18j, 1.11433326e-01+1.39134097e-17j,\n",
       "        1.98292366e-02+6.87961124e-18j, 2.71746388e-08-7.09637928e-18j]),\n",
       " array([[ 0.68412015+0.02316595j, -0.27792384+0.22352928j,\n",
       "          0.63289184+0.j        , -0.04235555+0.04347274j],\n",
       "        [ 0.01295146+0.05068336j, -0.39754481-0.15442772j,\n",
       "         -0.07722087-0.20231905j,  0.87662854+0.j        ],\n",
       "        [ 0.00327227+0.00523521j,  0.74941873+0.j        ,\n",
       "          0.36773981+0.27619027j,  0.43564124-0.19244878j],\n",
       "        [ 0.72709579+0.j        ,  0.26884825-0.23873709j,\n",
       "         -0.58364935+0.01979035j,  0.02227706+0.02285683j]]))"
      ]
     },
     "execution_count": 13,
     "metadata": {},
     "output_type": "execute_result"
    }
   ],
   "source": [
    "np.linalg.eig(rho_approx)"
   ]
  },
  {
   "cell_type": "code",
   "execution_count": null,
   "id": "be3fe2cf",
   "metadata": {},
   "outputs": [],
   "source": []
  }
 ],
 "metadata": {
  "kernelspec": {
   "display_name": "Python 3 (ipykernel)",
   "language": "python",
   "name": "python3"
  },
  "language_info": {
   "codemirror_mode": {
    "name": "ipython",
    "version": 3
   },
   "file_extension": ".py",
   "mimetype": "text/x-python",
   "name": "python",
   "nbconvert_exporter": "python",
   "pygments_lexer": "ipython3",
   "version": "3.10.10"
  }
 },
 "nbformat": 4,
 "nbformat_minor": 5
}
