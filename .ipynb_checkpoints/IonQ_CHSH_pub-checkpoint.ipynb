{
 "cells": [
  {
   "cell_type": "code",
   "execution_count": null,
   "id": "3f1a0e5b",
   "metadata": {},
   "outputs": [],
   "source": [
    "import numpy as np"
   ]
  },
  {
   "cell_type": "code",
   "execution_count": null,
   "id": "93caa738",
   "metadata": {},
   "outputs": [],
   "source": [
    "from braket.aws import AwsDevice, AwsQuantumTask\n",
    "from braket.circuits import Circuit\n",
    "from braket.devices import LocalSimulator \n",
    "from braket.tracking import Tracker\n",
    "\n",
    "# AWS local simulator\n",
    "\n",
    "#device = LocalSimulator()\n",
    "\n",
    "# AWS online simulator (not free)\n",
    "#device = AwsDevice(\"arn:aws:braket:::device/quantum-simulator/amazon/sv1\")\n",
    "\n",
    "# Rigetti\n",
    "#device = AwsDevice(\"arn:aws:braket:us-west-1::device/qpu/rigetti/Aspen-M-3\")\n",
    "\n",
    "# ionQ\n",
    "device = AwsDevice(\"arn:aws:braket:us-east-1::device/qpu/ionq/Aria-1\")"
   ]
  },
  {
   "cell_type": "code",
   "execution_count": null,
   "id": "5cbba9cf",
   "metadata": {},
   "outputs": [],
   "source": [
    "from core import TwoBitCircuit\n",
    "\n",
    "shotsnum = 200\n",
    "cq = 0\n",
    "aq = 1\n",
    "\n",
    "a0b0_circuit = TwoBitCircuit('a0b0',cq,aq).circuit\n",
    "a0b1_circuit = TwoBitCircuit('a0b1',cq,aq).circuit\n",
    "a1b0_circuit = TwoBitCircuit('a1b0',cq,aq).circuit\n",
    "a1b1_circuit = TwoBitCircuit('a1b1',cq,aq).circuit\n",
    "\n",
    "with Tracker() as tracker:\n",
    "    a0b0_task = device.run(a0b0_circuit, shots=shotsnum)\n",
    "    a0b1_task = device.run(a0b1_circuit, shots=shotsnum)\n",
    "    a1b0_task = device.run(a1b0_circuit, shots=shotsnum)\n",
    "    a1b1_task = device.run(a1b1_circuit, shots=shotsnum)\n"
   ]
  },
  {
   "cell_type": "code",
   "execution_count": null,
   "id": "08a92777",
   "metadata": {},
   "outputs": [],
   "source": [
    "print(tracker.quantum_tasks_statistics())\n",
    "print(tracker.simulator_tasks_cost())\n",
    "print(tracker.qpu_tasks_cost())\n",
    "print(a0b0_task.id)\n",
    "print(a0b1_task.id)\n",
    "print(a1b0_task.id)\n",
    "print(a1b1_task.id)"
   ]
  },
  {
   "cell_type": "code",
   "execution_count": 9,
   "id": "82953a58",
   "metadata": {},
   "outputs": [
    {
     "name": "stdout",
     "output_type": "stream",
     "text": [
      "{'00': 0.425, '10': 0.07, '01': 0.055, '11': 0.45}\n",
      "{'00': 0.39, '10': 0.065, '01': 0.135, '11': 0.41}\n",
      "{'00': 0.4, '10': 0.105, '01': 0.095, '11': 0.4}\n",
      "{'00': 0.065, '10': 0.37, '01': 0.5, '11': 0.065}\n"
     ]
    }
   ],
   "source": [
    "a0b0_prob = a0b0_task.result().measurement_probabilities\n",
    "a0b1_prob = a0b1_task.result().measurement_probabilities\n",
    "a1b0_prob = a1b0_task.result().measurement_probabilities\n",
    "a1b1_prob = a1b1_task.result().measurement_probabilities\n",
    "print(a0b0_prob)\n",
    "print(a0b1_prob)\n",
    "print(a1b0_prob)\n",
    "print(a1b1_prob)"
   ]
  },
  {
   "cell_type": "code",
   "execution_count": 8,
   "id": "101e7f2f",
   "metadata": {},
   "outputs": [
    {
     "data": {
      "text/plain": [
       "0.83625"
      ]
     },
     "execution_count": 8,
     "metadata": {},
     "output_type": "execute_result"
    }
   ],
   "source": [
    "(a0b0_prob['00']+a0b0_prob['11']+a0b1_prob['00']+a0b1_prob['11']+a1b0_prob['00']+a1b0_prob['11']+\\\n",
    " a1b1_prob['01']+a1b1_prob['10'])/4"
   ]
  },
  {
   "cell_type": "code",
   "execution_count": null,
   "id": "e4922f06",
   "metadata": {},
   "outputs": [],
   "source": []
  }
 ],
 "metadata": {
  "kernelspec": {
   "display_name": "Python 3 (ipykernel)",
   "language": "python",
   "name": "python3"
  },
  "language_info": {
   "codemirror_mode": {
    "name": "ipython",
    "version": 3
   },
   "file_extension": ".py",
   "mimetype": "text/x-python",
   "name": "python",
   "nbconvert_exporter": "python",
   "pygments_lexer": "ipython3",
   "version": "3.10.10"
  }
 },
 "nbformat": 4,
 "nbformat_minor": 5
}
