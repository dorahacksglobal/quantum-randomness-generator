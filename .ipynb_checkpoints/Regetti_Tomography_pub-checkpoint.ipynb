{
 "cells": [
  {
   "cell_type": "code",
   "execution_count": 1,
   "id": "9c0f2f0e",
   "metadata": {},
   "outputs": [],
   "source": [
    "from braket.aws import AwsDevice, AwsQuantumTask\n",
    "from braket.circuits import Circuit\n",
    "from braket.devices import LocalSimulator \n",
    "from braket.tracking import Tracker\n",
    "import numpy as np\n",
    "\n",
    "# AWS local simulator\n",
    "\n",
    "#device = LocalSimulator()\n",
    "\n",
    "# AWS online simulator (not free)\n",
    "#device = AwsDevice(\"arn:aws:braket:::device/quantum-simulator/amazon/sv1\")\n",
    "\n",
    "# Rigetti\n",
    "device = AwsDevice(\"arn:aws:braket:us-west-1::device/qpu/rigetti/Aspen-M-3\")\n",
    "\n",
    "# Lucy\n",
    "#device = AwsDevice(\"arn:aws:braket:eu-west-2::device/qpu/oqc/Lucy\")"
   ]
  },
  {
   "cell_type": "code",
   "execution_count": 2,
   "id": "16c8dc9b",
   "metadata": {},
   "outputs": [],
   "source": [
    "control = 0\n",
    "act = 1\n",
    "XX_circ = Circuit().h(control).cnot(control, act).h(control).h(act)\n",
    "XY_circ = Circuit().h(control).cnot(control, act).h(control).si(act).h(act)\n",
    "XZ_circ = Circuit().h(control).cnot(control, act).h(control)\n",
    "YX_circ = Circuit().h(control).cnot(control, act).si(control).h(control).h(act)\n",
    "YY_circ = Circuit().h(control).cnot(control, act).si(control).h(control).si(act).h(act)\n",
    "YZ_circ = Circuit().h(control).cnot(control, act).si(control).h(control)\n",
    "ZX_circ = Circuit().h(control).cnot(control, act).h(act)\n",
    "ZY_circ = Circuit().h(control).cnot(control, act).si(act).h(act)\n",
    "ZZ_circ = Circuit().h(control).cnot(control, act)"
   ]
  },
  {
   "cell_type": "code",
   "execution_count": 3,
   "id": "c08f904f",
   "metadata": {},
   "outputs": [
    {
     "name": "stdout",
     "output_type": "stream",
     "text": [
      "T  : |0|1|2|\n",
      "            \n",
      "q0 : -H-C-H-\n",
      "        |   \n",
      "q1 : ---X-H-\n",
      "\n",
      "T  : |0|1|2|\n"
     ]
    }
   ],
   "source": [
    "print(XX_circ)"
   ]
  },
  {
   "cell_type": "code",
   "execution_count": 4,
   "id": "b9225c21",
   "metadata": {},
   "outputs": [],
   "source": [
    "shotsnum = 1000\n",
    "with Tracker() as tracker:\n",
    "    XX_task = device.run(XX_circ, shots = shotsnum)\n",
    "    XY_task = device.run(XY_circ, shots = shotsnum)\n",
    "    XZ_task = device.run(XZ_circ, shots = shotsnum)\n",
    "    YX_task = device.run(YX_circ, shots = shotsnum)\n",
    "    YY_task = device.run(YY_circ, shots = shotsnum)\n",
    "    YZ_task = device.run(YZ_circ, shots = shotsnum)\n",
    "    ZX_task = device.run(ZX_circ, shots = shotsnum)\n",
    "    ZY_task = device.run(ZY_circ, shots = shotsnum)\n",
    "    ZZ_task = device.run(ZZ_circ, shots = shotsnum)\n"
   ]
  },
  {
   "cell_type": "code",
   "execution_count": null,
   "id": "70d574f7",
   "metadata": {},
   "outputs": [],
   "source": [
    "print(tracker.quantum_tasks_statistics())\n",
    "print(tracker.simulator_tasks_cost())\n",
    "print(tracker.qpu_tasks_cost())\n",
    "print(XX_task.id)\n",
    "print(XY_task.id)\n",
    "print(XZ_task.id)\n",
    "print(YX_task.id)\n",
    "print(YY_task.id)\n",
    "print(YZ_task.id)\n",
    "print(ZX_task.id)\n",
    "print(ZY_task.id)\n",
    "print(ZZ_task.id)"
   ]
  },
  {
   "cell_type": "code",
   "execution_count": 6,
   "id": "91ded9f1",
   "metadata": {},
   "outputs": [],
   "source": [
    "XX_counts = XX_task.result().measurement_counts\n",
    "XY_counts = XY_task.result().measurement_counts\n",
    "XZ_counts = XZ_task.result().measurement_counts\n",
    "YX_counts = YX_task.result().measurement_counts\n",
    "YY_counts = YY_task.result().measurement_counts\n",
    "YZ_counts = YZ_task.result().measurement_counts\n",
    "ZX_counts = ZX_task.result().measurement_counts\n",
    "ZY_counts = ZY_task.result().measurement_counts\n",
    "ZZ_counts = ZZ_task.result().measurement_counts"
   ]
  },
  {
   "cell_type": "code",
   "execution_count": 7,
   "id": "228f89c7",
   "metadata": {},
   "outputs": [
    {
     "name": "stdout",
     "output_type": "stream",
     "text": [
      "Counter({'11': 432, '00': 428, '10': 101, '01': 39})\n",
      "Counter({'10': 324, '00': 241, '01': 219, '11': 216})\n",
      "Counter({'01': 280, '00': 245, '11': 243, '10': 232})\n"
     ]
    }
   ],
   "source": [
    "print(XX_counts)\n",
    "print(XY_counts)\n",
    "print(XZ_counts)"
   ]
  },
  {
   "cell_type": "code",
   "execution_count": 8,
   "id": "06676e56",
   "metadata": {},
   "outputs": [
    {
     "name": "stdout",
     "output_type": "stream",
     "text": [
      "Counter({'10': 308, '11': 278, '00': 234, '01': 180})\n",
      "Counter({'10': 508, '01': 454, '00': 27, '11': 11})\n",
      "Counter({'11': 285, '10': 272, '00': 225, '01': 218})\n"
     ]
    }
   ],
   "source": [
    "print(YX_counts)\n",
    "print(YY_counts)\n",
    "print(YZ_counts)"
   ]
  },
  {
   "cell_type": "code",
   "execution_count": 9,
   "id": "fe72301b",
   "metadata": {},
   "outputs": [
    {
     "name": "stdout",
     "output_type": "stream",
     "text": [
      "Counter({'10': 290, '11': 258, '00': 242, '01': 210})\n",
      "Counter({'11': 362, '01': 233, '00': 221, '10': 184})\n",
      "Counter({'11': 484, '00': 436, '10': 66, '01': 14})\n"
     ]
    }
   ],
   "source": [
    "print(ZX_counts)\n",
    "print(ZY_counts)\n",
    "print(ZZ_counts)"
   ]
  },
  {
   "cell_type": "code",
   "execution_count": 10,
   "id": "9de324aa",
   "metadata": {},
   "outputs": [
    {
     "data": {
      "text/plain": [
       "array([[428,  39, 101, 432],\n",
       "       [241, 219, 324, 216],\n",
       "       [245, 280, 232, 243],\n",
       "       [234, 180, 308, 278],\n",
       "       [ 27, 454, 508,  11],\n",
       "       [225, 218, 272, 285],\n",
       "       [242, 210, 290, 258],\n",
       "       [221, 233, 184, 362],\n",
       "       [436,  14,  66, 484]])"
      ]
     },
     "execution_count": 10,
     "metadata": {},
     "output_type": "execute_result"
    }
   ],
   "source": [
    "np.array([[XX_counts[i], XY_counts[i], XZ_counts[i], YX_counts[i], YY_counts[i],\\\n",
    "          YZ_counts[i], ZX_counts[i], ZY_counts[i], ZZ_counts[i]] for i in ['00', '01', '10', '11']]).transpose()"
   ]
  },
  {
   "cell_type": "code",
   "execution_count": null,
   "id": "432ff4de",
   "metadata": {},
   "outputs": [],
   "source": []
  }
 ],
 "metadata": {
  "kernelspec": {
   "display_name": "Python 3 (ipykernel)",
   "language": "python",
   "name": "python3"
  },
  "language_info": {
   "codemirror_mode": {
    "name": "ipython",
    "version": 3
   },
   "file_extension": ".py",
   "mimetype": "text/x-python",
   "name": "python",
   "nbconvert_exporter": "python",
   "pygments_lexer": "ipython3",
   "version": "3.10.10"
  }
 },
 "nbformat": 4,
 "nbformat_minor": 5
}
