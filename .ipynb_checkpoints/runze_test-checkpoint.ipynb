{
 "cells": [
  {
   "cell_type": "code",
   "execution_count": 1,
   "id": "be8549bd",
   "metadata": {},
   "outputs": [
    {
     "name": "stdout",
     "output_type": "stream",
     "text": [
      "Counter({'00': 54, '11': 46})\n"
     ]
    }
   ],
   "source": [
    "from braket.circuits import Circuit \n",
    "from braket.devices import LocalSimulator \n",
    "device = LocalSimulator() \n",
    "bell = Circuit().h(0).cnot(0, 1) \n",
    "print(device.run(bell, shots=100).result().measurement_counts)"
   ]
  },
  {
   "cell_type": "code",
   "execution_count": 2,
   "id": "442416d4",
   "metadata": {},
   "outputs": [],
   "source": [
    "from core import TwoBitCircuit"
   ]
  },
  {
   "cell_type": "code",
   "execution_count": 4,
   "id": "e46d3908",
   "metadata": {},
   "outputs": [],
   "source": [
    "a0b0_circuit = TwoBitCircuit('a0b0').circuit\n",
    "a0b1_circuit = TwoBitCircuit('a0b1').circuit\n",
    "a1b0_circuit = TwoBitCircuit('a1b0').circuit\n",
    "a1b1_circuit = TwoBitCircuit('a1b1').circuit"
   ]
  },
  {
   "cell_type": "code",
   "execution_count": 5,
   "id": "29000edd",
   "metadata": {},
   "outputs": [
    {
     "name": "stdout",
     "output_type": "stream",
     "text": [
      "T  : |0|1|2|3|4|5|\n",
      "                  \n",
      "q0 : -H-C---------\n",
      "        |         \n",
      "q1 : ---X-S-H-T-H-\n",
      "\n",
      "T  : |0|1|2|3|4|5|\n"
     ]
    }
   ],
   "source": [
    "print(a0b0_circuit)"
   ]
  },
  {
   "cell_type": "code",
   "execution_count": 6,
   "id": "1d6f3cd4",
   "metadata": {},
   "outputs": [
    {
     "name": "stdout",
     "output_type": "stream",
     "text": [
      "T  : |0|1|2|3|4 |5|\n",
      "                   \n",
      "q0 : -H-C----------\n",
      "        |          \n",
      "q1 : ---X-S-H-Ti-H-\n",
      "\n",
      "T  : |0|1|2|3|4 |5|\n"
     ]
    }
   ],
   "source": [
    "print(a0b1_circuit)"
   ]
  },
  {
   "cell_type": "code",
   "execution_count": 7,
   "id": "216e5e78",
   "metadata": {},
   "outputs": [
    {
     "name": "stdout",
     "output_type": "stream",
     "text": [
      "T  : |0|1|2|3|4|5|\n",
      "                  \n",
      "q0 : -H-C-H-------\n",
      "        |         \n",
      "q1 : ---X-S-H-T-H-\n",
      "\n",
      "T  : |0|1|2|3|4|5|\n"
     ]
    }
   ],
   "source": [
    "print(a1b0_circuit)"
   ]
  },
  {
   "cell_type": "code",
   "execution_count": 8,
   "id": "27d76d78",
   "metadata": {},
   "outputs": [
    {
     "name": "stdout",
     "output_type": "stream",
     "text": [
      "T  : |0|1|2|3|4 |5|\n",
      "                   \n",
      "q0 : -H-C-H--------\n",
      "        |          \n",
      "q1 : ---X-S-H-Ti-H-\n",
      "\n",
      "T  : |0|1|2|3|4 |5|\n"
     ]
    }
   ],
   "source": [
    "print(a1b1_circuit)"
   ]
  },
  {
   "cell_type": "code",
   "execution_count": 11,
   "id": "63a3c596",
   "metadata": {},
   "outputs": [],
   "source": [
    "a0b0_result = device.run(a0b0_circuit, 10000).result().measurement_probabilities\n",
    "a0b1_result = device.run(a0b1_circuit, 10000).result().measurement_probabilities\n",
    "a1b0_result = device.run(a1b0_circuit, 10000).result().measurement_probabilities\n",
    "a1b1_result = device.run(a1b1_circuit, 10000).result().measurement_probabilities"
   ]
  },
  {
   "cell_type": "code",
   "execution_count": 12,
   "id": "ceb90bbd",
   "metadata": {},
   "outputs": [
    {
     "data": {
      "text/plain": [
       "0.854025"
      ]
     },
     "execution_count": 12,
     "metadata": {},
     "output_type": "execute_result"
    }
   ],
   "source": [
    "(a0b0_result['00']+a0b0_result['11']+a0b1_result['00']+a0b1_result['11']+a1b0_result['00']+a1b0_result['11']+\\\n",
    " a1b1_result['01']+a1b1_result['10'])/4"
   ]
  },
  {
   "cell_type": "code",
   "execution_count": null,
   "id": "4e1ad15e",
   "metadata": {},
   "outputs": [],
   "source": []
  }
 ],
 "metadata": {
  "kernelspec": {
   "display_name": "Python 3 (ipykernel)",
   "language": "python",
   "name": "python3"
  },
  "language_info": {
   "codemirror_mode": {
    "name": "ipython",
    "version": 3
   },
   "file_extension": ".py",
   "mimetype": "text/x-python",
   "name": "python",
   "nbconvert_exporter": "python",
   "pygments_lexer": "ipython3",
   "version": "3.10.10"
  }
 },
 "nbformat": 4,
 "nbformat_minor": 5
}
