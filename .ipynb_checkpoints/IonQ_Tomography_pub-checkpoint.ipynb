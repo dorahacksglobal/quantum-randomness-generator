{
 "cells": [
  {
   "cell_type": "code",
   "execution_count": 1,
   "id": "c93b74e9",
   "metadata": {},
   "outputs": [],
   "source": [
    "from braket.aws import AwsDevice, AwsQuantumTask\n",
    "from braket.circuits import Circuit\n",
    "from braket.devices import LocalSimulator \n",
    "from braket.tracking import Tracker\n",
    "\n",
    "# AWS local simulator\n",
    "\n",
    "#device = LocalSimulator()\n",
    "\n",
    "# AWS online simulator (not free)\n",
    "#device = AwsDevice(\"arn:aws:braket:::device/quantum-simulator/amazon/sv1\")\n",
    "\n",
    "# Rigetti\n",
    "#device = AwsDevice(\"arn:aws:braket:us-west-1::device/qpu/rigetti/Aspen-M-3\")\n",
    "\n",
    "# ionQ\n",
    "device = AwsDevice(\"arn:aws:braket:us-east-1::device/qpu/ionq/Aria-1\")"
   ]
  },
  {
   "cell_type": "code",
   "execution_count": 2,
   "id": "d0c94039",
   "metadata": {},
   "outputs": [],
   "source": [
    "control = 0\n",
    "act = 1\n",
    "XX_circ = Circuit().h(control).cnot(control, act).h(control).h(act)\n",
    "XY_circ = Circuit().h(control).cnot(control, act).h(control).si(act).h(act)\n",
    "XZ_circ = Circuit().h(control).cnot(control, act).h(control)\n",
    "YX_circ = Circuit().h(control).cnot(control, act).si(control).h(control).h(act)\n",
    "YY_circ = Circuit().h(control).cnot(control, act).si(control).h(control).si(act).h(act)\n",
    "YZ_circ = Circuit().h(control).cnot(control, act).si(control).h(control)\n",
    "ZX_circ = Circuit().h(control).cnot(control, act).h(act)\n",
    "ZY_circ = Circuit().h(control).cnot(control, act).si(act).h(act)\n",
    "ZZ_circ = Circuit().h(control).cnot(control, act)"
   ]
  },
  {
   "cell_type": "code",
   "execution_count": 3,
   "id": "5db17233",
   "metadata": {},
   "outputs": [
    {
     "name": "stdout",
     "output_type": "stream",
     "text": [
      "T  : |0|1|2|\n",
      "            \n",
      "q0 : -H-C-H-\n",
      "        |   \n",
      "q1 : ---X-H-\n",
      "\n",
      "T  : |0|1|2|\n"
     ]
    }
   ],
   "source": [
    "print(XX_circ)"
   ]
  },
  {
   "cell_type": "code",
   "execution_count": 4,
   "id": "cafaab4b",
   "metadata": {},
   "outputs": [],
   "source": [
    "shotsnum = 200\n",
    "with Tracker() as tracker:\n",
    "    XX_task = device.run(XX_circ, shots = shotsnum)\n",
    "    XY_task = device.run(XY_circ, shots = shotsnum)\n",
    "    XZ_task = device.run(XZ_circ, shots = shotsnum)\n",
    "    YX_task = device.run(YX_circ, shots = shotsnum)\n",
    "    YY_task = device.run(YY_circ, shots = shotsnum)\n",
    "    YZ_task = device.run(YZ_circ, shots = shotsnum)\n",
    "    ZX_task = device.run(ZX_circ, shots = shotsnum)\n",
    "    ZY_task = device.run(ZY_circ, shots = shotsnum)\n",
    "    ZZ_task = device.run(ZZ_circ, shots = shotsnum)"
   ]
  },
  {
   "cell_type": "code",
   "execution_count": null,
   "id": "411322e6",
   "metadata": {},
   "outputs": [],
   "source": [
    "print(tracker.quantum_tasks_statistics())\n",
    "print(tracker.simulator_tasks_cost())\n",
    "print(tracker.qpu_tasks_cost())\n",
    "print(XX_task.id)\n",
    "print(XY_task.id)\n",
    "print(XZ_task.id)\n",
    "print(YX_task.id)\n",
    "print(YY_task.id)\n",
    "print(YZ_task.id)\n",
    "print(ZX_task.id)\n",
    "print(ZY_task.id)\n",
    "print(ZZ_task.id)"
   ]
  },
  {
   "cell_type": "code",
   "execution_count": 6,
   "id": "6a28e53a",
   "metadata": {},
   "outputs": [],
   "source": [
    "XX_counts = XX_task.result().measurement_counts\n",
    "XY_counts = XY_task.result().measurement_counts\n",
    "XZ_counts = XZ_task.result().measurement_counts\n",
    "YX_counts = YX_task.result().measurement_counts\n",
    "YY_counts = YY_task.result().measurement_counts\n",
    "YZ_counts = YZ_task.result().measurement_counts\n",
    "ZX_counts = ZX_task.result().measurement_counts\n",
    "ZY_counts = ZY_task.result().measurement_counts\n",
    "ZZ_counts = ZZ_task.result().measurement_counts"
   ]
  },
  {
   "cell_type": "code",
   "execution_count": 7,
   "id": "af4ebb34",
   "metadata": {},
   "outputs": [
    {
     "name": "stdout",
     "output_type": "stream",
     "text": [
      "Counter({'00': 108, '11': 86, '10': 3, '01': 3})\n",
      "Counter({'00': 57, '10': 53, '11': 47, '01': 43})\n",
      "Counter({'10': 61, '01': 50, '00': 48, '11': 41})\n"
     ]
    }
   ],
   "source": [
    "print(XX_counts)\n",
    "print(XY_counts)\n",
    "print(XZ_counts)"
   ]
  },
  {
   "cell_type": "code",
   "execution_count": 8,
   "id": "3e25c588",
   "metadata": {},
   "outputs": [
    {
     "name": "stdout",
     "output_type": "stream",
     "text": [
      "Counter({'10': 54, '11': 54, '00': 46, '01': 46})\n",
      "Counter({'10': 101, '01': 96, '11': 2, '00': 1})\n",
      "Counter({'01': 57, '11': 55, '00': 47, '10': 41})\n"
     ]
    }
   ],
   "source": [
    "print(YX_counts)\n",
    "print(YY_counts)\n",
    "print(YZ_counts)"
   ]
  },
  {
   "cell_type": "code",
   "execution_count": 9,
   "id": "57f8989b",
   "metadata": {},
   "outputs": [
    {
     "name": "stdout",
     "output_type": "stream",
     "text": [
      "Counter({'01': 61, '10': 55, '11': 44, '00': 40})\n",
      "Counter({'11': 55, '01': 49, '00': 48, '10': 48})\n",
      "Counter({'00': 105, '11': 93, '10': 2})\n"
     ]
    }
   ],
   "source": [
    "print(ZX_counts)\n",
    "print(ZY_counts)\n",
    "print(ZZ_counts)"
   ]
  },
  {
   "cell_type": "code",
   "execution_count": 11,
   "id": "eb8f89a2",
   "metadata": {},
   "outputs": [
    {
     "data": {
      "text/plain": [
       "array([[108,   3,   3,  86],\n",
       "       [ 57,  43,  53,  47],\n",
       "       [ 48,  50,  61,  41],\n",
       "       [ 46,  46,  54,  54],\n",
       "       [  1,  96, 101,   2],\n",
       "       [ 47,  57,  41,  55],\n",
       "       [ 40,  61,  55,  44],\n",
       "       [ 48,  49,  48,  55],\n",
       "       [105,   0,   2,  93]])"
      ]
     },
     "execution_count": 11,
     "metadata": {},
     "output_type": "execute_result"
    }
   ],
   "source": [
    "import numpy as np\n",
    "np.array([[XX_counts[i], XY_counts[i], XZ_counts[i], YX_counts[i], YY_counts[i],\\\n",
    "          YZ_counts[i], ZX_counts[i], ZY_counts[i], ZZ_counts[i]] for i in ['00', '01', '10', '11']]).transpose()"
   ]
  },
  {
   "cell_type": "code",
   "execution_count": null,
   "id": "7277fcc0",
   "metadata": {},
   "outputs": [],
   "source": []
  }
 ],
 "metadata": {
  "kernelspec": {
   "display_name": "Python 3 (ipykernel)",
   "language": "python",
   "name": "python3"
  },
  "language_info": {
   "codemirror_mode": {
    "name": "ipython",
    "version": 3
   },
   "file_extension": ".py",
   "mimetype": "text/x-python",
   "name": "python",
   "nbconvert_exporter": "python",
   "pygments_lexer": "ipython3",
   "version": "3.10.10"
  }
 },
 "nbformat": 4,
 "nbformat_minor": 5
}
