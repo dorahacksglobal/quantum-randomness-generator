{
 "cells": [
  {
   "cell_type": "code",
   "execution_count": 11,
   "id": "128a1e96",
   "metadata": {},
   "outputs": [
    {
     "data": {
      "text/plain": [
       "0.1857636178627975"
      ]
     },
     "execution_count": 11,
     "metadata": {},
     "output_type": "execute_result"
    }
   ],
   "source": [
    "import numpy as np\n",
    "from scipy.optimize import brentq\n",
    "n = 4E5 # experiment run number\n",
    "score = 0.803 # CHSH score, classcial threshold 0.75\n",
    "convertedScore = (score - 0.5) * 8.0 # convert to [2, 2sqrt(2)]\n",
    "delta = 2/np.sqrt(n) # confidence level\n",
    "epFun = lambda x: np.exp(-n*x**2/2.0/(4+2*np.sqrt(2))**2)-delta\n",
    "epsilon = brentq(epFun, 0, 1)\n",
    "entropy = 1-np.log2(1+np.sqrt(2-(convertedScore - epsilon)**2/4))\n",
    "entropy"
   ]
  },
  {
   "cell_type": "code",
   "execution_count": 12,
   "id": "ca0f0748",
   "metadata": {},
   "outputs": [
    {
     "data": {
      "text/plain": [
       "0.003162277660168379"
      ]
     },
     "execution_count": 12,
     "metadata": {},
     "output_type": "execute_result"
    }
   ],
   "source": [
    "delta"
   ]
  },
  {
   "cell_type": "code",
   "execution_count": 10,
   "id": "90e444e1",
   "metadata": {},
   "outputs": [],
   "source": [
    "scorelis = np.linspace(0.7501, (2+np.sqrt(2))/4-0.0001, 200)\n",
    "resultlis = np.array([])\n",
    "for score in scorelis:\n",
    "    convertedScore = (score - 0.5) * 8.0 # convert to [2, 2sqrt(2)]\n",
    "    delta = 2/np.sqrt(n) # confidence level\n",
    "    epFun = lambda x: np.exp(-n*x**2/2.0/(4+2*np.sqrt(2))**2)-delta\n",
    "    epsilon = brentq(epFun, 0, 1)\n",
    "    entropy = 1-np.log2(1+np.sqrt(2-(convertedScore - epsilon)**2/4))\n",
    "    resultlis = np.append(resultlis, entropy)\n",
    "np.savetxt('Nature2010.txt', np.vstack((scorelis, resultlis)).transpose())"
   ]
  }
 ],
 "metadata": {
  "kernelspec": {
   "display_name": "Python 3 (ipykernel)",
   "language": "python",
   "name": "python3"
  },
  "language_info": {
   "codemirror_mode": {
    "name": "ipython",
    "version": 3
   },
   "file_extension": ".py",
   "mimetype": "text/x-python",
   "name": "python",
   "nbconvert_exporter": "python",
   "pygments_lexer": "ipython3",
   "version": "3.10.10"
  }
 },
 "nbformat": 4,
 "nbformat_minor": 5
}
