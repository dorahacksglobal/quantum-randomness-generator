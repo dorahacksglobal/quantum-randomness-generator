{
 "cells": [
  {
   "cell_type": "code",
   "execution_count": 1,
   "id": "f9f860ac",
   "metadata": {},
   "outputs": [
    {
     "data": {
      "text/plain": [
       "0.10890738453954205"
      ]
     },
     "execution_count": 1,
     "metadata": {},
     "output_type": "execute_result"
    }
   ],
   "source": [
    "import numpy as np\n",
    "\n",
    "def hFun(x):\n",
    "    return -x*np.log2(x)-(1-x)*np.log2(1-x)\n",
    "\n",
    "def gFun(p):\n",
    "    if p >= (2.0+np.sqrt(2.0)) / 4.0:\n",
    "        return 1\n",
    "    else:\n",
    "        return 1-hFun(1.0/2.0+1.0/2.0*np.sqrt(16.0*p*(p-1) + 3.0))\n",
    "    \n",
    "def NDFun(f, x, dx):\n",
    "    return (f(x+dx) - f(x)) / dx;\n",
    "    \n",
    "def fminFun(p, pt):\n",
    "    if p <= pt:\n",
    "        return gFun(p)\n",
    "    else:\n",
    "        return NDFun(gFun, pt, 1E-7)*p+(gFun(pt)-NDFun(gFun, pt, 1E-7)*pt)\n",
    "    \n",
    "def rFun(p, pt, n, eS, eEA):\n",
    "    return fminFun(p, pt) - 1/np.sqrt(n)*2*(np.log2(13)+NDFun(gFun, pt, 1E-7))*np.sqrt(1-2*np.log2(eS*eEA))\n",
    "\n",
    "def rOpt(omega, n, eS, eEA, dEst):\n",
    "    pList = np.linspace(0.75+1E-5, (2.0+np.sqrt(2.0))/4.0-1E-5, int(1E5))\n",
    "    result = [rFun(omega-dEst, pList[i], n, eS, eEA) for i in np.arange(pList.size)]\n",
    "    rmax = np.amax(result)\n",
    "    rindex = np.argmax(result)\n",
    "    return rmax\n",
    "\n",
    "n = 4E5 # experiement run number\n",
    "eS = 1/np.sqrt(n) # smoothing error\n",
    "eEA = 1/np.sqrt(n) # EAT error\n",
    "dEst = np.sqrt(10.0 / n) # confidence level\n",
    "rOpt(0.803, n, eS, eEA, dEst) # the first parameter is CHSH score in range [0.75, 0.853]"
   ]
  },
  {
   "cell_type": "code",
   "execution_count": 2,
   "id": "77d78ad9",
   "metadata": {},
   "outputs": [
    {
     "name": "stderr",
     "output_type": "stream",
     "text": [
      "/var/folders/xs/rnkzw7gd4yz5rf2t9t85j7rc0000gn/T/ipykernel_19968/1632648679.py:10: RuntimeWarning: invalid value encountered in sqrt\n",
      "  return 1-hFun(1.0/2.0+1.0/2.0*np.sqrt(16.0*p*(p-1) + 3.0))\n"
     ]
    }
   ],
   "source": [
    "scorelis = np.linspace(0.7501, (2+np.sqrt(2))/4-0.0001, 200)\n",
    "resultlis = [rOpt(i, n, eS, eEA, dEst) for i in scorelis]\n",
    "np.savetxt('PRL2018.txt', np.vstack((scorelis, resultlis)).transpose())"
   ]
  },
  {
   "cell_type": "code",
   "execution_count": null,
   "id": "28286f7f",
   "metadata": {},
   "outputs": [],
   "source": []
  }
 ],
 "metadata": {
  "kernelspec": {
   "display_name": "Python 3 (ipykernel)",
   "language": "python",
   "name": "python3"
  },
  "language_info": {
   "codemirror_mode": {
    "name": "ipython",
    "version": 3
   },
   "file_extension": ".py",
   "mimetype": "text/x-python",
   "name": "python",
   "nbconvert_exporter": "python",
   "pygments_lexer": "ipython3",
   "version": "3.10.10"
  }
 },
 "nbformat": 4,
 "nbformat_minor": 5
}
