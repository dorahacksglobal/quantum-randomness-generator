{
 "cells": [
  {
   "cell_type": "code",
   "execution_count": 1,
   "id": "eb8d562f",
   "metadata": {},
   "outputs": [],
   "source": [
    "import numpy as np\n",
    "from scipy.linalg import toeplitz, matmul_toeplitz"
   ]
  },
  {
   "cell_type": "code",
   "execution_count": 2,
   "id": "a636e024",
   "metadata": {},
   "outputs": [],
   "source": [
    "rng = np.random.default_rng()\n",
    "exprdata = rng.integers(2, size = 2000000)\n",
    "mc = rng.integers(2, size = 200000)\n",
    "mr = rng.integers(2, size = 2000000)\n",
    "result = np.remainder(matmul_toeplitz((mc, mr), exprdata), 2).astype('int8')\n",
    "#np.save('test.bin', result)"
   ]
  },
  {
   "cell_type": "code",
   "execution_count": 48,
   "id": "c9d883f0",
   "metadata": {},
   "outputs": [],
   "source": [
    "result.tofile('test.bin')"
   ]
  },
  {
   "cell_type": "code",
   "execution_count": null,
   "id": "f2d7d323",
   "metadata": {},
   "outputs": [],
   "source": []
  }
 ],
 "metadata": {
  "kernelspec": {
   "display_name": "Python 3 (ipykernel)",
   "language": "python",
   "name": "python3"
  },
  "language_info": {
   "codemirror_mode": {
    "name": "ipython",
    "version": 3
   },
   "file_extension": ".py",
   "mimetype": "text/x-python",
   "name": "python",
   "nbconvert_exporter": "python",
   "pygments_lexer": "ipython3",
   "version": "3.10.10"
  }
 },
 "nbformat": 4,
 "nbformat_minor": 5
}
