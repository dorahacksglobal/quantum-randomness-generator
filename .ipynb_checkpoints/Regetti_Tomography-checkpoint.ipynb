{
 "cells": [
  {
   "cell_type": "code",
   "execution_count": 1,
   "id": "9c0f2f0e",
   "metadata": {},
   "outputs": [],
   "source": [
    "from braket.aws import AwsDevice, AwsQuantumTask\n",
    "from braket.circuits import Circuit\n",
    "from braket.devices import LocalSimulator \n",
    "from braket.tracking import Tracker\n",
    "import numpy as np\n",
    "\n",
    "# AWS local simulator\n",
    "\n",
    "#device = LocalSimulator()\n",
    "\n",
    "# AWS online simulator (not free)\n",
    "#device = AwsDevice(\"arn:aws:braket:::device/quantum-simulator/amazon/sv1\")\n",
    "\n",
    "# Rigetti\n",
    "device = AwsDevice(\"arn:aws:braket:us-west-1::device/qpu/rigetti/Aspen-M-3\")\n",
    "\n",
    "# Lucy\n",
    "#device = AwsDevice(\"arn:aws:braket:eu-west-2::device/qpu/oqc/Lucy\")"
   ]
  },
  {
   "cell_type": "code",
   "execution_count": 2,
   "id": "16c8dc9b",
   "metadata": {},
   "outputs": [],
   "source": [
    "control = 0\n",
    "act = 1\n",
    "XX_circ = Circuit().h(control).cnot(control, act).h(control).h(act)\n",
    "XY_circ = Circuit().h(control).cnot(control, act).h(control).si(act).h(act)\n",
    "XZ_circ = Circuit().h(control).cnot(control, act).h(control)\n",
    "YX_circ = Circuit().h(control).cnot(control, act).si(control).h(control).h(act)\n",
    "YY_circ = Circuit().h(control).cnot(control, act).si(control).h(control).si(act).h(act)\n",
    "YZ_circ = Circuit().h(control).cnot(control, act).si(control).h(control)\n",
    "ZX_circ = Circuit().h(control).cnot(control, act).h(act)\n",
    "ZY_circ = Circuit().h(control).cnot(control, act).si(act).h(act)\n",
    "ZZ_circ = Circuit().h(control).cnot(control, act)"
   ]
  },
  {
   "cell_type": "code",
   "execution_count": 3,
   "id": "28984af6",
   "metadata": {},
   "outputs": [
    {
     "name": "stdout",
     "output_type": "stream",
     "text": [
      "T  : |0|1|2|\n",
      "            \n",
      "q0 : -H-C-H-\n",
      "        |   \n",
      "q1 : ---X-H-\n",
      "\n",
      "T  : |0|1|2|\n"
     ]
    }
   ],
   "source": [
    "print(XX_circ)"
   ]
  },
  {
   "cell_type": "code",
   "execution_count": 4,
   "id": "b9225c21",
   "metadata": {},
   "outputs": [],
   "source": [
    "shotsnum = 1000\n",
    "with Tracker() as tracker:\n",
    "    XX_task = device.run(XX_circ, shots = shotsnum)\n",
    "    XY_task = device.run(XY_circ, shots = shotsnum)\n",
    "    XZ_task = device.run(XZ_circ, shots = shotsnum)\n",
    "    YX_task = device.run(YX_circ, shots = shotsnum)\n",
    "    YY_task = device.run(YY_circ, shots = shotsnum)\n",
    "    YZ_task = device.run(YZ_circ, shots = shotsnum)\n",
    "    ZX_task = device.run(ZX_circ, shots = shotsnum)\n",
    "    ZY_task = device.run(ZY_circ, shots = shotsnum)\n",
    "    ZZ_task = device.run(ZZ_circ, shots = shotsnum)\n"
   ]
  },
  {
   "cell_type": "code",
   "execution_count": 5,
   "id": "605e8550",
   "metadata": {},
   "outputs": [
    {
     "name": "stdout",
     "output_type": "stream",
     "text": [
      "{'arn:aws:braket:us-west-1::device/qpu/rigetti/Aspen-M-3': {'shots': 9000, 'tasks': {'CREATED': 9}}}\n",
      "0\n",
      "5.8500000000\n",
      "arn:aws:braket:us-west-1:443313522425:quantum-task/e5373e8e-2184-4164-baf3-254a23bfb0b7\n",
      "arn:aws:braket:us-west-1:443313522425:quantum-task/e7adfee7-0694-4022-9792-9b163d191a62\n",
      "arn:aws:braket:us-west-1:443313522425:quantum-task/e0a4cc36-1d51-47a5-a601-1981d3f86412\n",
      "arn:aws:braket:us-west-1:443313522425:quantum-task/d71cf699-0106-4dd5-9900-a093e3645edf\n",
      "arn:aws:braket:us-west-1:443313522425:quantum-task/0530ecc1-88e9-45a8-8659-b85a2e731d3e\n",
      "arn:aws:braket:us-west-1:443313522425:quantum-task/de6a3854-a131-4e72-82e4-641cd2c642b3\n",
      "arn:aws:braket:us-west-1:443313522425:quantum-task/bc41f035-6e2b-4540-833e-24c8cb5d3f07\n",
      "arn:aws:braket:us-west-1:443313522425:quantum-task/431c2372-726b-463e-aef4-4824f7de7fde\n",
      "arn:aws:braket:us-west-1:443313522425:quantum-task/5057bc40-93fd-4255-9a02-152999e89f1f\n"
     ]
    }
   ],
   "source": [
    "print(tracker.quantum_tasks_statistics())\n",
    "print(tracker.simulator_tasks_cost())\n",
    "print(tracker.qpu_tasks_cost())\n",
    "print(XX_task.id)\n",
    "print(XY_task.id)\n",
    "print(XZ_task.id)\n",
    "print(YX_task.id)\n",
    "print(YY_task.id)\n",
    "print(YZ_task.id)\n",
    "print(ZX_task.id)\n",
    "print(ZY_task.id)\n",
    "print(ZZ_task.id)"
   ]
  },
  {
   "cell_type": "code",
   "execution_count": 6,
   "id": "f6e2d0a2",
   "metadata": {},
   "outputs": [],
   "source": [
    "XX_counts = XX_task.result().measurement_counts\n",
    "XY_counts = XY_task.result().measurement_counts\n",
    "XZ_counts = XZ_task.result().measurement_counts\n",
    "YX_counts = YX_task.result().measurement_counts\n",
    "YY_counts = YY_task.result().measurement_counts\n",
    "YZ_counts = YZ_task.result().measurement_counts\n",
    "ZX_counts = ZX_task.result().measurement_counts\n",
    "ZY_counts = ZY_task.result().measurement_counts\n",
    "ZZ_counts = ZZ_task.result().measurement_counts"
   ]
  },
  {
   "cell_type": "code",
   "execution_count": 7,
   "id": "14773823",
   "metadata": {},
   "outputs": [
    {
     "name": "stdout",
     "output_type": "stream",
     "text": [
      "Counter({'00': 377, '10': 294, '11': 196, '01': 133})\n",
      "Counter({'10': 325, '01': 244, '00': 225, '11': 206})\n",
      "Counter({'10': 366, '00': 352, '01': 144, '11': 138})\n"
     ]
    }
   ],
   "source": [
    "print(XX_counts)\n",
    "print(XY_counts)\n",
    "print(XZ_counts)"
   ]
  },
  {
   "cell_type": "code",
   "execution_count": 8,
   "id": "beb4cb6b",
   "metadata": {},
   "outputs": [
    {
     "name": "stdout",
     "output_type": "stream",
     "text": [
      "Counter({'10': 391, '00': 336, '11': 140, '01': 133})\n",
      "Counter({'10': 389, '00': 293, '11': 161, '01': 157})\n",
      "Counter({'10': 278, '00': 260, '11': 243, '01': 219})\n"
     ]
    }
   ],
   "source": [
    "print(YX_counts)\n",
    "print(YY_counts)\n",
    "print(YZ_counts)"
   ]
  },
  {
   "cell_type": "code",
   "execution_count": 9,
   "id": "b14a8e7c",
   "metadata": {},
   "outputs": [
    {
     "name": "stdout",
     "output_type": "stream",
     "text": [
      "Counter({'00': 387, '01': 347, '10': 136, '11': 130})\n",
      "Counter({'11': 290, '00': 242, '01': 240, '10': 228})\n",
      "Counter({'00': 487, '11': 222, '10': 216, '01': 75})\n"
     ]
    }
   ],
   "source": [
    "print(ZX_counts)\n",
    "print(ZY_counts)\n",
    "print(ZZ_counts)"
   ]
  },
  {
   "cell_type": "code",
   "execution_count": 10,
   "id": "70a15f2c",
   "metadata": {},
   "outputs": [
    {
     "data": {
      "text/plain": [
       "array([[377, 133, 294, 196],\n",
       "       [225, 244, 325, 206],\n",
       "       [352, 144, 366, 138],\n",
       "       [336, 133, 391, 140],\n",
       "       [293, 157, 389, 161],\n",
       "       [260, 219, 278, 243],\n",
       "       [387, 347, 136, 130],\n",
       "       [242, 240, 228, 290],\n",
       "       [487,  75, 216, 222]])"
      ]
     },
     "execution_count": 10,
     "metadata": {},
     "output_type": "execute_result"
    }
   ],
   "source": [
    "np.array([[XX_counts[i], XY_counts[i], XZ_counts[i], YX_counts[i], YY_counts[i],\\\n",
    "          YZ_counts[i], ZX_counts[i], ZY_counts[i], ZZ_counts[i]] for i in ['00', '01', '10', '11']]).transpose()"
   ]
  },
  {
   "cell_type": "code",
   "execution_count": 11,
   "id": "8526a019",
   "metadata": {},
   "outputs": [],
   "source": [
    "cz_circ = Circuit().h([0, 1]).cz(0, 1).h(1)"
   ]
  },
  {
   "cell_type": "code",
   "execution_count": 13,
   "id": "12bcb9b7",
   "metadata": {},
   "outputs": [],
   "source": [
    "cz_task = device.run(cz_circ, shots = shotsnum)"
   ]
  },
  {
   "cell_type": "code",
   "execution_count": 14,
   "id": "c64b77fd",
   "metadata": {},
   "outputs": [
    {
     "name": "stdout",
     "output_type": "stream",
     "text": [
      "arn:aws:braket:us-west-1:443313522425:quantum-task/42d9412d-3b79-43fe-96d3-83a1108f772c\n"
     ]
    }
   ],
   "source": [
    "print(cz_task.id)"
   ]
  },
  {
   "cell_type": "code",
   "execution_count": 15,
   "id": "e9a19884",
   "metadata": {},
   "outputs": [
    {
     "data": {
      "text/plain": [
       "Counter({'00': 415, '01': 333, '11': 153, '10': 99})"
      ]
     },
     "execution_count": 15,
     "metadata": {},
     "output_type": "execute_result"
    }
   ],
   "source": [
    "cz_task.result().measurement_counts"
   ]
  },
  {
   "cell_type": "code",
   "execution_count": null,
   "id": "998cf67f",
   "metadata": {},
   "outputs": [],
   "source": []
  }
 ],
 "metadata": {
  "kernelspec": {
   "display_name": "Python 3 (ipykernel)",
   "language": "python",
   "name": "python3"
  },
  "language_info": {
   "codemirror_mode": {
    "name": "ipython",
    "version": 3
   },
   "file_extension": ".py",
   "mimetype": "text/x-python",
   "name": "python",
   "nbconvert_exporter": "python",
   "pygments_lexer": "ipython3",
   "version": "3.10.10"
  }
 },
 "nbformat": 4,
 "nbformat_minor": 5
}
