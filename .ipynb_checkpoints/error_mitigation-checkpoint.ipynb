{
 "cells": [
  {
   "cell_type": "markdown",
   "id": "41542d06",
   "metadata": {},
   "source": [
    "# Q: Can error mitigation apply to shots data?\n",
    "# A: Sadly, nope."
   ]
  },
  {
   "cell_type": "code",
   "execution_count": 1,
   "id": "90216246",
   "metadata": {},
   "outputs": [],
   "source": [
    "from qiskit import QuantumCircuit, QuantumRegister, Aer, transpile, assemble\n",
    "from qiskit.visualization import array_to_latex\n",
    "from qiskit.providers.aer.noise import NoiseModel\n",
    "from qiskit.providers.aer.noise.errors import pauli_error, depolarizing_error\n",
    "from qiskit.utils.mitigation import complete_meas_cal, CompleteMeasFitter\n",
    "import numpy as np"
   ]
  },
  {
   "cell_type": "code",
   "execution_count": 2,
   "id": "e2e64b67",
   "metadata": {},
   "outputs": [
    {
     "data": {
      "text/plain": [
       "<qiskit.circuit.instructionset.InstructionSet at 0x11f724640>"
      ]
     },
     "execution_count": 2,
     "metadata": {},
     "output_type": "execute_result"
    }
   ],
   "source": [
    "# x0=sigma_z, y0=1/sqrt(2)*(sigma_z+sigma_x)\n",
    "qc00 = QuantumCircuit(2,2)\n",
    "qc00.h(0)\n",
    "qc00.cnot(0,1)\n",
    "qc00.id(0)\n",
    "qc00.s(1)\n",
    "qc00.h(1)\n",
    "qc00.t(1)\n",
    "qc00.h(1)\n",
    "qc00.measure([0, 1], [0, 1])\n",
    "# x0=sigma_z, y1=1/sqrt(2)*(sigma_z-sigma_x)\n",
    "qc01 = QuantumCircuit(2,2)\n",
    "qc01.h(0)\n",
    "qc01.cnot(0,1)\n",
    "qc01.id(0)\n",
    "qc01.s(1)\n",
    "qc01.h(1)\n",
    "qc01.tdg(1)\n",
    "qc01.h(1)\n",
    "qc01.measure([0, 1], [0, 1])\n",
    "# x1=sigma_x, y0=1/sqrt(2)*(sigma_z+sigma_x)\n",
    "qc10 = QuantumCircuit(2,2)\n",
    "qc10.h(0)\n",
    "qc10.cnot(0,1)\n",
    "qc10.h(0)\n",
    "qc10.s(1)\n",
    "qc10.h(1)\n",
    "qc10.t(1)\n",
    "qc10.h(1)\n",
    "qc10.measure([0, 1], [0, 1])\n",
    "# x0=sigma_z, y1=1/sqrt(2)*(sigma_z-sigma_x)\n",
    "qc11 = QuantumCircuit(2,2)\n",
    "qc11.h(0)\n",
    "qc11.cnot(0,1)\n",
    "qc11.h(0)\n",
    "qc11.s(1)\n",
    "qc11.h(1)\n",
    "qc11.tdg(1)\n",
    "qc11.h(1)\n",
    "qc11.measure([0, 1], [0, 1])"
   ]
  },
  {
   "cell_type": "code",
   "execution_count": 3,
   "id": "a2d018ef",
   "metadata": {},
   "outputs": [
    {
     "data": {
      "text/html": [
       "<pre style=\"word-wrap: normal;white-space: pre;background: #fff0;line-height: 1.1;font-family: &quot;Courier New&quot;,Courier,monospace\">     ┌───┐     ┌───┐     ┌─┐             \n",
       "q_0: ┤ H ├──■──┤ I ├─────┤M├─────────────\n",
       "     └───┘┌─┴─┐├───┤┌───┐└╥┘┌───┐┌───┐┌─┐\n",
       "q_1: ─────┤ X ├┤ S ├┤ H ├─╫─┤ T ├┤ H ├┤M├\n",
       "          └───┘└───┘└───┘ ║ └───┘└───┘└╥┘\n",
       "c: 2/═════════════════════╩════════════╩═\n",
       "                          0            1 </pre>"
      ],
      "text/plain": [
       "     ┌───┐     ┌───┐     ┌─┐             \n",
       "q_0: ┤ H ├──■──┤ I ├─────┤M├─────────────\n",
       "     └───┘┌─┴─┐├───┤┌───┐└╥┘┌───┐┌───┐┌─┐\n",
       "q_1: ─────┤ X ├┤ S ├┤ H ├─╫─┤ T ├┤ H ├┤M├\n",
       "          └───┘└───┘└───┘ ║ └───┘└───┘└╥┘\n",
       "c: 2/═════════════════════╩════════════╩═\n",
       "                          0            1 "
      ]
     },
     "execution_count": 3,
     "metadata": {},
     "output_type": "execute_result"
    }
   ],
   "source": [
    "qc00.draw()"
   ]
  },
  {
   "cell_type": "code",
   "execution_count": 4,
   "id": "7618324b",
   "metadata": {},
   "outputs": [
    {
     "data": {
      "text/html": [
       "<pre style=\"word-wrap: normal;white-space: pre;background: #fff0;line-height: 1.1;font-family: &quot;Courier New&quot;,Courier,monospace\">     ┌───┐     ┌───┐     ┌─┐               \n",
       "q_0: ┤ H ├──■──┤ I ├─────┤M├───────────────\n",
       "     └───┘┌─┴─┐├───┤┌───┐└╥┘┌─────┐┌───┐┌─┐\n",
       "q_1: ─────┤ X ├┤ S ├┤ H ├─╫─┤ Tdg ├┤ H ├┤M├\n",
       "          └───┘└───┘└───┘ ║ └─────┘└───┘└╥┘\n",
       "c: 2/═════════════════════╩══════════════╩═\n",
       "                          0              1 </pre>"
      ],
      "text/plain": [
       "     ┌───┐     ┌───┐     ┌─┐               \n",
       "q_0: ┤ H ├──■──┤ I ├─────┤M├───────────────\n",
       "     └───┘┌─┴─┐├───┤┌───┐└╥┘┌─────┐┌───┐┌─┐\n",
       "q_1: ─────┤ X ├┤ S ├┤ H ├─╫─┤ Tdg ├┤ H ├┤M├\n",
       "          └───┘└───┘└───┘ ║ └─────┘└───┘└╥┘\n",
       "c: 2/═════════════════════╩══════════════╩═\n",
       "                          0              1 "
      ]
     },
     "execution_count": 4,
     "metadata": {},
     "output_type": "execute_result"
    }
   ],
   "source": [
    "qc01.draw()"
   ]
  },
  {
   "cell_type": "code",
   "execution_count": 5,
   "id": "be5b82f0",
   "metadata": {},
   "outputs": [
    {
     "data": {
      "text/html": [
       "<pre style=\"word-wrap: normal;white-space: pre;background: #fff0;line-height: 1.1;font-family: &quot;Courier New&quot;,Courier,monospace\">     ┌───┐     ┌───┐     ┌─┐             \n",
       "q_0: ┤ H ├──■──┤ H ├─────┤M├─────────────\n",
       "     └───┘┌─┴─┐├───┤┌───┐└╥┘┌───┐┌───┐┌─┐\n",
       "q_1: ─────┤ X ├┤ S ├┤ H ├─╫─┤ T ├┤ H ├┤M├\n",
       "          └───┘└───┘└───┘ ║ └───┘└───┘└╥┘\n",
       "c: 2/═════════════════════╩════════════╩═\n",
       "                          0            1 </pre>"
      ],
      "text/plain": [
       "     ┌───┐     ┌───┐     ┌─┐             \n",
       "q_0: ┤ H ├──■──┤ H ├─────┤M├─────────────\n",
       "     └───┘┌─┴─┐├───┤┌───┐└╥┘┌───┐┌───┐┌─┐\n",
       "q_1: ─────┤ X ├┤ S ├┤ H ├─╫─┤ T ├┤ H ├┤M├\n",
       "          └───┘└───┘└───┘ ║ └───┘└───┘└╥┘\n",
       "c: 2/═════════════════════╩════════════╩═\n",
       "                          0            1 "
      ]
     },
     "execution_count": 5,
     "metadata": {},
     "output_type": "execute_result"
    }
   ],
   "source": [
    "qc10.draw()"
   ]
  },
  {
   "cell_type": "code",
   "execution_count": 6,
   "id": "29c91579",
   "metadata": {},
   "outputs": [
    {
     "data": {
      "text/html": [
       "<pre style=\"word-wrap: normal;white-space: pre;background: #fff0;line-height: 1.1;font-family: &quot;Courier New&quot;,Courier,monospace\">     ┌───┐     ┌───┐     ┌─┐               \n",
       "q_0: ┤ H ├──■──┤ H ├─────┤M├───────────────\n",
       "     └───┘┌─┴─┐├───┤┌───┐└╥┘┌─────┐┌───┐┌─┐\n",
       "q_1: ─────┤ X ├┤ S ├┤ H ├─╫─┤ Tdg ├┤ H ├┤M├\n",
       "          └───┘└───┘└───┘ ║ └─────┘└───┘└╥┘\n",
       "c: 2/═════════════════════╩══════════════╩═\n",
       "                          0              1 </pre>"
      ],
      "text/plain": [
       "     ┌───┐     ┌───┐     ┌─┐               \n",
       "q_0: ┤ H ├──■──┤ H ├─────┤M├───────────────\n",
       "     └───┘┌─┴─┐├───┤┌───┐└╥┘┌─────┐┌───┐┌─┐\n",
       "q_1: ─────┤ X ├┤ S ├┤ H ├─╫─┤ Tdg ├┤ H ├┤M├\n",
       "          └───┘└───┘└───┘ ║ └─────┘└───┘└╥┘\n",
       "c: 2/═════════════════════╩══════════════╩═\n",
       "                          0              1 "
      ]
     },
     "execution_count": 6,
     "metadata": {},
     "output_type": "execute_result"
    }
   ],
   "source": [
    "qc11.draw()"
   ]
  },
  {
   "cell_type": "code",
   "execution_count": 7,
   "id": "73a3f35b",
   "metadata": {},
   "outputs": [
    {
     "data": {
      "text/plain": [
       "0.854975"
      ]
     },
     "execution_count": 7,
     "metadata": {},
     "output_type": "execute_result"
    }
   ],
   "source": [
    "aer_sim = Aer.get_backend('aer_simulator')\n",
    "result = aer_sim.run(transpile([qc00, qc01, qc10, qc11],aer_sim), shots=10000).result().get_counts()\n",
    "CHSHscore = (result[0]['00']+result[0]['11']+result[1]['00']+result[1]['11']+result[2]['00']+result[2]['11']+\\\n",
    "            result[3]['01']+result[3]['10'])/4/10000\n",
    "CHSHscore"
   ]
  },
  {
   "cell_type": "code",
   "execution_count": 45,
   "id": "62a6eda3",
   "metadata": {},
   "outputs": [
    {
     "data": {
      "text/plain": [
       "{'00': 4998, '11': 5002}"
      ]
     },
     "execution_count": 45,
     "metadata": {},
     "output_type": "execute_result"
    }
   ],
   "source": [
    "XX = QuantumCircuit(2,2)\n",
    "XX.h(0)\n",
    "XX.h(1)\n",
    "XX.cz(0,1)\n",
    "XX.h(1)\n",
    "#XX.sdg(1)\n",
    "XX.h(0)\n",
    "#XX.sdg(1)\n",
    "XX.h(1)\n",
    "XX.measure([0, 1], [0, 1])\n",
    "aer_sim = Aer.get_backend('aer_simulator')\n",
    "result = aer_sim.run(transpile([XX],aer_sim), shots=10000).result().get_counts()\n",
    "result"
   ]
  },
  {
   "cell_type": "code",
   "execution_count": 46,
   "id": "3de30a45",
   "metadata": {},
   "outputs": [
    {
     "data": {
      "text/html": [
       "<pre style=\"word-wrap: normal;white-space: pre;background: #fff0;line-height: 1.1;font-family: &quot;Courier New&quot;,Courier,monospace\">     ┌───┐   ┌───┐     ┌─┐   \n",
       "q_0: ┤ H ├─■─┤ H ├─────┤M├───\n",
       "     ├───┤ │ ├───┤┌───┐└╥┘┌─┐\n",
       "q_1: ┤ H ├─■─┤ H ├┤ H ├─╫─┤M├\n",
       "     └───┘   └───┘└───┘ ║ └╥┘\n",
       "c: 2/═══════════════════╩══╩═\n",
       "                        0  1 </pre>"
      ],
      "text/plain": [
       "     ┌───┐   ┌───┐     ┌─┐   \n",
       "q_0: ┤ H ├─■─┤ H ├─────┤M├───\n",
       "     ├───┤ │ ├───┤┌───┐└╥┘┌─┐\n",
       "q_1: ┤ H ├─■─┤ H ├┤ H ├─╫─┤M├\n",
       "     └───┘   └───┘└───┘ ║ └╥┘\n",
       "c: 2/═══════════════════╩══╩═\n",
       "                        0  1 "
      ]
     },
     "execution_count": 46,
     "metadata": {},
     "output_type": "execute_result"
    }
   ],
   "source": [
    "XX = QuantumCircuit(2,2)\n",
    "XX.h(0)\n",
    "XX.h(1)\n",
    "XX.cz(0,1)\n",
    "XX.h(1)\n",
    "#XX.sdg(1)\n",
    "XX.h(0)\n",
    "#XX.sdg(1)\n",
    "XX.h(1)\n",
    "XX.measure([0, 1], [0, 1])\n",
    "XX.draw()"
   ]
  },
  {
   "cell_type": "code",
   "execution_count": 8,
   "id": "917ee6ba",
   "metadata": {},
   "outputs": [],
   "source": [
    "def get_noise(p):\n",
    "\n",
    "    error_meas = pauli_error([('X',p), ('I', 1 - p)])\n",
    "\n",
    "    noise_model = NoiseModel()\n",
    "    noise_model.add_all_qubit_quantum_error(error_meas, \"measure\") # measurement error is applied to measurements\n",
    "        \n",
    "    return noise_model"
   ]
  },
  {
   "cell_type": "code",
   "execution_count": 9,
   "id": "24c1a461",
   "metadata": {},
   "outputs": [],
   "source": [
    "noise_model = get_noise(0.1)"
   ]
  },
  {
   "cell_type": "code",
   "execution_count": 10,
   "id": "3a826596",
   "metadata": {},
   "outputs": [
    {
     "data": {
      "text/plain": [
       "0.727575"
      ]
     },
     "execution_count": 10,
     "metadata": {},
     "output_type": "execute_result"
    }
   ],
   "source": [
    "resultn = aer_sim.run(assemble(transpile([qc00, qc01, qc10, qc11],aer_sim)), noise_model=noise_model, shots=10000).result().get_counts()\n",
    "CHSHscore_noise = (resultn[0]['00']+resultn[0]['11']+resultn[1]['00']+resultn[1]['11']+resultn[2]['00']+resultn[2]['11']+\\\n",
    "            resultn[3]['01']+resultn[3]['10'])/4/10000\n",
    "CHSHscore_noise"
   ]
  },
  {
   "cell_type": "code",
   "execution_count": 11,
   "id": "eb8df3d2",
   "metadata": {},
   "outputs": [
    {
     "data": {
      "text/latex": [
       "$$\n",
       "\n",
       "\\begin{bmatrix}\n",
       "0.8157 & 0.0848 & 0.089 & 0.0109  \\\\\n",
       " 0.0868 & 0.8181 & 0.0097 & 0.0887  \\\\\n",
       " 0.0885 & 0.0094 & 0.814 & 0.0865  \\\\\n",
       " 0.009 & 0.0877 & 0.0873 & 0.8139  \\\\\n",
       " \\end{bmatrix}\n",
       "$$"
      ],
      "text/plain": [
       "<IPython.core.display.Latex object>"
      ]
     },
     "execution_count": 11,
     "metadata": {},
     "output_type": "execute_result"
    }
   ],
   "source": [
    "qr = QuantumRegister(2)\n",
    "meas_calibs, state_labels = complete_meas_cal(qr=qr, circlabel='mcal')\n",
    "qobj = assemble(transpile(meas_calibs, aer_sim), shots=10000)\n",
    "cal_results = aer_sim.run(qobj, noise_model=noise_model, shots=10000).result()\n",
    "\n",
    "meas_fitter = CompleteMeasFitter(cal_results, state_labels, circlabel='mcal')\n",
    "array_to_latex(meas_fitter.cal_matrix)"
   ]
  },
  {
   "cell_type": "code",
   "execution_count": 12,
   "id": "ff33b57e",
   "metadata": {},
   "outputs": [
    {
     "data": {
      "text/plain": [
       "0.8502508091865593"
      ]
     },
     "execution_count": 12,
     "metadata": {},
     "output_type": "execute_result"
    }
   ],
   "source": [
    "resultc = [meas_fitter.filter.apply(index) for index in resultn]\n",
    "CHSHscore_corr = (resultc[0]['00']+resultc[0]['11']+resultc[1]['00']+resultc[1]['11']+resultc[2]['00']+resultc[2]['11']+\\\n",
    "            resultc[3]['01']+resultc[3]['10'])/4/10000\n",
    "CHSHscore_corr"
   ]
  },
  {
   "cell_type": "code",
   "execution_count": 13,
   "id": "1e6f8b5f",
   "metadata": {},
   "outputs": [],
   "source": [
    "testn = aer_sim.run(assemble(transpile(qc00,aer_sim)), noise_model=noise_model, shots=10, memory=True).result()"
   ]
  },
  {
   "cell_type": "code",
   "execution_count": 14,
   "id": "f7663e2d",
   "metadata": {},
   "outputs": [
    {
     "data": {
      "text/plain": [
       "{'01': 3, '00': 1, '11': 6}"
      ]
     },
     "execution_count": 14,
     "metadata": {},
     "output_type": "execute_result"
    }
   ],
   "source": [
    "testn.get_counts()"
   ]
  },
  {
   "cell_type": "code",
   "execution_count": 15,
   "id": "493788cc",
   "metadata": {},
   "outputs": [
    {
     "data": {
      "text/plain": [
       "['11', '01', '01', '11', '11', '11', '00', '11', '11', '01']"
      ]
     },
     "execution_count": 15,
     "metadata": {},
     "output_type": "execute_result"
    }
   ],
   "source": [
    "testn.get_memory()"
   ]
  },
  {
   "cell_type": "code",
   "execution_count": 16,
   "id": "6548c350",
   "metadata": {},
   "outputs": [],
   "source": [
    "testc = meas_fitter.filter.apply(testn)"
   ]
  },
  {
   "cell_type": "code",
   "execution_count": 17,
   "id": "edbcd501",
   "metadata": {},
   "outputs": [
    {
     "data": {
      "text/plain": [
       "{'00': 0.5458006056861838, '01': 2.686347350694982, '11': 6.767852043618834}"
      ]
     },
     "execution_count": 17,
     "metadata": {},
     "output_type": "execute_result"
    }
   ],
   "source": [
    "testc.get_counts()"
   ]
  },
  {
   "cell_type": "code",
   "execution_count": 18,
   "id": "e9c63a81",
   "metadata": {},
   "outputs": [
    {
     "data": {
      "text/plain": [
       "['11', '01', '01', '11', '11', '11', '00', '11', '11', '01']"
      ]
     },
     "execution_count": 18,
     "metadata": {},
     "output_type": "execute_result"
    }
   ],
   "source": [
    "testc.get_memory()"
   ]
  },
  {
   "cell_type": "code",
   "execution_count": 19,
   "id": "d244212e",
   "metadata": {},
   "outputs": [
    {
     "data": {
      "text/plain": [
       "True"
      ]
     },
     "execution_count": 19,
     "metadata": {},
     "output_type": "execute_result"
    }
   ],
   "source": [
    "testc.get_memory() == testn.get_memory()"
   ]
  },
  {
   "cell_type": "markdown",
   "id": "ce5adf0d",
   "metadata": {},
   "source": [
    "# Trasplile circuits to basis gates"
   ]
  },
  {
   "cell_type": "code",
   "execution_count": 25,
   "id": "6178f110",
   "metadata": {},
   "outputs": [],
   "source": [
    "from qiskit.providers.fake_provider import FakeQuitoV2"
   ]
  },
  {
   "cell_type": "code",
   "execution_count": 26,
   "id": "2b4cabc5",
   "metadata": {},
   "outputs": [
    {
     "data": {
      "image/png": "[encoded data removed]",
      "text/plain": [
       "<PIL.PngImagePlugin.PngImageFile image mode=RGBA size=302x317>"
      ]
     },
     "execution_count": 26,
     "metadata": {},
     "output_type": "execute_result"
    }
   ],
   "source": [
    "fakebackend = FakeQuitoV2()\n",
    "fakebackend.coupling_map.draw()"
   ]
  },
  {
   "cell_type": "code",
   "execution_count": 27,
   "id": "b3d64ff8",
   "metadata": {},
   "outputs": [
    {
     "name": "stdout",
     "output_type": "stream",
     "text": [
      "['id', 'rz', 'sx', 'x', 'cx', 'reset', 'measure', 'delay']\n"
     ]
    }
   ],
   "source": [
    "print(fakebackend.operation_names)"
   ]
  },
  {
   "cell_type": "code",
   "execution_count": 24,
   "id": "412fb7cf",
   "metadata": {},
   "outputs": [
    {
     "data": {
      "image/png": "[encoded data removed]",
      "text/plain": [
       "<Figure size 788.961x284.278 with 1 Axes>"
      ]
     },
     "execution_count": 24,
     "metadata": {},
     "output_type": "execute_result"
    }
   ],
   "source": [
    "qc00.draw('mpl')"
   ]
  },
  {
   "cell_type": "code",
   "execution_count": 34,
   "id": "4544357f",
   "metadata": {},
   "outputs": [
    {
     "data": {
      "image/png": "[encoded data removed]",
      "text/plain": [
       "<Figure size 1419.63x535.111 with 1 Axes>"
      ]
     },
     "execution_count": 34,
     "metadata": {},
     "output_type": "execute_result"
    }
   ],
   "source": [
    "qctrans00 = transpile(qc00, backend=fakebackend, optimization_level=1)\n",
    "qctrans00.draw('mpl')"
   ]
  },
  {
   "cell_type": "code",
   "execution_count": 40,
   "id": "0bf2144f",
   "metadata": {},
   "outputs": [
    {
     "data": {
      "text/plain": [
       "[QubitProperties(t1=8.305997230317399e-05, t2=0.00011553074510239035, frequency=5128321697.435369),\n",
       " QubitProperties(t1=0.00010377694598809795, t2=9.477169960638749e-05, frequency=5247491310.11471)]"
      ]
     },
     "execution_count": 40,
     "metadata": {},
     "output_type": "execute_result"
    }
   ],
   "source": []
  },
  {
   "cell_type": "code",
   "execution_count": null,
   "id": "7af9fc92",
   "metadata": {},
   "outputs": [],
   "source": []
  }
 ],
 "metadata": {
  "kernelspec": {
   "display_name": "Python 3 (ipykernel)",
   "language": "python",
   "name": "python3"
  },
  "language_info": {
   "codemirror_mode": {
    "name": "ipython",
    "version": 3
   },
   "file_extension": ".py",
   "mimetype": "text/x-python",
   "name": "python",
   "nbconvert_exporter": "python",
   "pygments_lexer": "ipython3",
   "version": "3.10.10"
  }
 },
 "nbformat": 4,
 "nbformat_minor": 5
}
