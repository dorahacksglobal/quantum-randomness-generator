{
 "cells": [
  {
   "cell_type": "code",
   "execution_count": 2,
   "id": "dd2b8d67-4744-4040-a398-948e38a9dac4",
   "metadata": {},
   "outputs": [],
   "source": [
    "import numpy as np"
   ]
  },
  {
   "cell_type": "code",
   "execution_count": 1,
   "id": "8d99ddb9-f7e8-4ed9-a8d4-008f486de591",
   "metadata": {},
   "outputs": [],
   "source": [
    "from braket.aws import AwsDevice, AwsQuantumTask\n",
    "from braket.circuits import Circuit\n",
    "from braket.devices import LocalSimulator \n",
    "from braket.tracking import Tracker\n",
    "\n",
    "# AWS local simulator\n",
    "\n",
    "#device = LocalSimulator()\n",
    "\n",
    "# AWS online simulator (not free)\n",
    "#device = AwsDevice(\"arn:aws:braket:::device/quantum-simulator/amazon/sv1\")\n",
    "\n",
    "# Rigetti\n",
    "device = AwsDevice(\"arn:aws:braket:us-west-1::device/qpu/rigetti/Aspen-M-3\")\n",
    "\n",
    "# Lucy\n",
    "#device = AwsDevice(\"arn:aws:braket:eu-west-2::device/qpu/oqc/Lucy\")"
   ]
  },
  {
   "cell_type": "code",
   "execution_count": 3,
   "id": "a4a34cf0",
   "metadata": {},
   "outputs": [],
   "source": [
    "from core import TwoBitCircuit\n",
    "\n",
    "shotsnum = 100000\n",
    "cq = 0\n",
    "aq = 1\n",
    "\n",
    "a0b0_circuit = TwoBitCircuit('a0b0',cq,aq).circuit\n",
    "a0b1_circuit = TwoBitCircuit('a0b1',cq,aq).circuit\n",
    "a1b0_circuit = TwoBitCircuit('a1b0',cq,aq).circuit\n",
    "a1b1_circuit = TwoBitCircuit('a1b1',cq,aq).circuit\n",
    "\n",
    "with Tracker() as tracker:\n",
    "    a0b0_task = device.run(a0b0_circuit, shots=shotsnum)\n",
    "    a0b1_task = device.run(a0b1_circuit, shots=shotsnum)\n",
    "    a1b0_task = device.run(a1b0_circuit, shots=shotsnum)\n",
    "    a1b1_task = device.run(a1b1_circuit, shots=shotsnum)\n"
   ]
  },
  {
   "cell_type": "code",
   "execution_count": 4,
   "id": "eb0c5dfc",
   "metadata": {
    "scrolled": true
   },
   "outputs": [
    {
     "name": "stdout",
     "output_type": "stream",
     "text": [
      "{'arn:aws:braket:us-west-1::device/qpu/rigetti/Aspen-M-3': {'shots': 400000, 'tasks': {'CREATED': 4}}}\n",
      "0\n",
      "141.2000000000\n",
      "arn:aws:braket:us-west-1:443313522425:quantum-task/f003189e-1e54-497e-bda4-a8871c1d28f5\n",
      "arn:aws:braket:us-west-1:443313522425:quantum-task/087de459-67ca-43d1-96e2-303ec48e8e8a\n",
      "arn:aws:braket:us-west-1:443313522425:quantum-task/b4afd7f1-b9af-4340-a7dd-8b9e78c7e464\n",
      "arn:aws:braket:us-west-1:443313522425:quantum-task/8596f50b-87db-4e02-91a0-eb5084f47840\n"
     ]
    }
   ],
   "source": [
    "print(tracker.quantum_tasks_statistics())\n",
    "print(tracker.simulator_tasks_cost())\n",
    "print(tracker.qpu_tasks_cost())\n",
    "print(a0b0_task.id)\n",
    "print(a0b1_task.id)\n",
    "print(a1b0_task.id)\n",
    "print(a1b1_task.id)"
   ]
  },
  {
   "cell_type": "code",
   "execution_count": 3,
   "id": "a09be224",
   "metadata": {},
   "outputs": [
    {
     "name": "stdout",
     "output_type": "stream",
     "text": [
      "{'10': 0.0859, '00': 0.41998, '11': 0.417, '01': 0.07712}\n",
      "{'10': 0.07498, '11': 0.43435, '00': 0.36513, '01': 0.12554}\n",
      "{'10': 0.09505, '00': 0.41091, '01': 0.12469, '11': 0.36935}\n",
      "{'10': 0.35503, '00': 0.09583, '01': 0.4428, '11': 0.10634}\n"
     ]
    }
   ],
   "source": [
    "a0b0_prob = AwsQuantumTask(arn = \"arn:aws:braket:us-west-1:443313522425:quantum-task/f003189e-1e54-497e-bda4-a8871c1d28f5\").result().measurement_probabilities\n",
    "a0b1_prob = AwsQuantumTask(arn = \"arn:aws:braket:us-west-1:443313522425:quantum-task/087de459-67ca-43d1-96e2-303ec48e8e8a\").result().measurement_probabilities\n",
    "a1b0_prob = AwsQuantumTask(arn = \"arn:aws:braket:us-west-1:443313522425:quantum-task/b4afd7f1-b9af-4340-a7dd-8b9e78c7e464\").result().measurement_probabilities\n",
    "a1b1_prob = AwsQuantumTask(arn = \"arn:aws:braket:us-west-1:443313522425:quantum-task/8596f50b-87db-4e02-91a0-eb5084f47840\").result().measurement_probabilities\n",
    "print(a0b0_prob)\n",
    "print(a0b1_prob)\n",
    "print(a1b0_prob)\n",
    "print(a1b1_prob)"
   ]
  },
  {
   "cell_type": "code",
   "execution_count": 4,
   "id": "c52bb82d",
   "metadata": {},
   "outputs": [
    {
     "data": {
      "text/plain": [
       "0.8036375"
      ]
     },
     "execution_count": 4,
     "metadata": {},
     "output_type": "execute_result"
    }
   ],
   "source": [
    "(a0b0_prob['00']+a0b0_prob['11']+a0b1_prob['00']+a0b1_prob['11']+a1b0_prob['00']+a1b0_prob['11']+\\\n",
    " a1b1_prob['01']+a1b1_prob['10'])/4"
   ]
  },
  {
   "cell_type": "code",
   "execution_count": 6,
   "id": "8cd4d62c",
   "metadata": {},
   "outputs": [],
   "source": [
    "a0b0_raw = AwsQuantumTask(arn = \"arn:aws:braket:us-west-1:443313522425:quantum-task/f003189e-1e54-497e-bda4-a8871c1d28f5\").result().measurements\n",
    "a0b1_raw = AwsQuantumTask(arn = \"arn:aws:braket:us-west-1:443313522425:quantum-task/087de459-67ca-43d1-96e2-303ec48e8e8a\").result().measurements\n",
    "a1b0_raw = AwsQuantumTask(arn = \"arn:aws:braket:us-west-1:443313522425:quantum-task/b4afd7f1-b9af-4340-a7dd-8b9e78c7e464\").result().measurements\n",
    "a1b1_raw = AwsQuantumTask(arn = \"arn:aws:braket:us-west-1:443313522425:quantum-task/8596f50b-87db-4e02-91a0-eb5084f47840\").result().measurements\n",
    "np.savetxt('regetti_a0b0_raw.txt',a0b0_raw,fmt=\"%i\")\n",
    "np.savetxt('regetti_a0b1_raw.txt',a0b1_raw,fmt=\"%i\")\n",
    "np.savetxt('regetti_a1b0_raw.txt',a1b0_raw,fmt=\"%i\")\n",
    "np.savetxt('regetti_a1b1_raw.txt',a1b1_raw,fmt=\"%i\")"
   ]
  },
  {
   "cell_type": "code",
   "execution_count": null,
   "id": "82531476",
   "metadata": {},
   "outputs": [],
   "source": []
  }
 ],
 "metadata": {
  "kernelspec": {
   "display_name": "Python 3 (ipykernel)",
   "language": "python",
   "name": "python3"
  },
  "language_info": {
   "codemirror_mode": {
    "name": "ipython",
    "version": 3
   },
   "file_extension": ".py",
   "mimetype": "text/x-python",
   "name": "python",
   "nbconvert_exporter": "python",
   "pygments_lexer": "ipython3",
   "version": "3.10.10"
  }
 },
 "nbformat": 4,
 "nbformat_minor": 5
}
