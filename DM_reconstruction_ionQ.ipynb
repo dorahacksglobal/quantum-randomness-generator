{
 "cells": [
  {
   "cell_type": "code",
   "execution_count": 1,
   "id": "a19e2296",
   "metadata": {},
   "outputs": [
    {
     "name": "stdout",
     "output_type": "stream",
     "text": [
      "State: \n",
      "0.495                -7.90e-03-i0.0111    3.59e-03+i4.92e-03   0.475-i0.0104        \n",
      "-7.90e-03+i0.0111    3.12e-03             -1.80e-03-i9.49e-04  -8.15e-04+i9.50e-03  \n",
      "3.59e-03-i4.92e-03   -1.80e-03+i9.49e-04  0.01                 0.0119+i1.15e-03     \n",
      "0.475+i0.0104        -8.15e-04-i9.50e-03  0.0119-i1.15e-03     0.491                \n",
      "intensity : 201.0\n",
      "fval : 19.1\n",
      "concurrence : 0.941\n",
      "tangle : 0.887\n",
      "entropy : 0.218\n",
      "linear_entropy : 0.0587\n",
      "negativity : 0.939\n",
      "purity : 0.941\n",
      "----------------\n",
      "Fidelity with actual : 0.9693780001805247\n"
     ]
    }
   ],
   "source": [
    "# dependency package: https://github.com/KwiatLab/Quantum-Tomography\n",
    "import QuantumTomography as qLib\n",
    "import numpy as np\n",
    "\n",
    "# Coincidence counts for 9 measurements, XX->ZZ, 4 detectors\n",
    "coincidence_counts = np.array([[108,   3,   3,  86],\n",
    "       [ 57,  43,  53,  47],\n",
    "       [ 48,  50,  61,  41],\n",
    "       [ 46,  46,  54,  54],\n",
    "       [  1,  96, 101,   2],\n",
    "       [ 47,  57,  41,  55],\n",
    "       [ 40,  61,  55,  44],\n",
    "       [ 48,  49,  48,  55],\n",
    "       [105,   0,   2,  93]])\n",
    "\n",
    "# Measurement basis definition for 9 measurements\n",
    "measurements = np.array([[0.70710678+0j, 0.70710678+0j,  0.70710678+0j,  0.70710678+0j],\n",
    "                         [0.70710678+0j, 0.70710678+0j,  0.70710678+0j,  0.70710678j],\n",
    "                         [0.70710678+0j, 0.70710678+0j,  1+0j,0j],\n",
    "                         [0.70710678+0j, 0.70710678j,    0.70710678+0j,  0.70710678+0j],\n",
    "                         [0.70710678+0j, 0.70710678j,    0.70710678+0j,  0.7071067811865476j],\n",
    "                         [0.70710678+0j, 0.70710678j,    1+0j,   0j],\n",
    "                         [1+0j,  0j, 0.70710678+0j,  0.7071067811865476+0j],\n",
    "                         [1+0j,  0j, 0.70710678+0j,  0.70710678j],\n",
    "                         [1+0j, 0j, 1+0j, 0j],])\n",
    "\n",
    "# Initiate tomography object\n",
    "tomo_obj = qLib.Tomography()\n",
    "\n",
    "# Run tomography\n",
    "[rho_approx,intensity,fval] = tomo_obj.StateTomography(measurements,coincidence_counts)\n",
    "\n",
    "# Print Results\n",
    "tomo_obj.printLastOutput()\n",
    "print('----------------')\n",
    "bell_state = 1/np.sqrt(2) * np.array([1,0,0,1],dtype=complex)\n",
    "print('Fidelity with actual : ' + str(qLib.fidelity(bell_state,rho_approx)))"
   ]
  },
  {
   "cell_type": "code",
   "execution_count": 2,
   "id": "0b94843a",
   "metadata": {},
   "outputs": [
    {
     "data": {
      "text/plain": [
       "array([[ 0.49547862+2.45418861e-19j, -0.00790412-1.11598191e-02j,\n",
       "         0.00359858+4.92651856e-03j,  0.47598535-1.04056871e-02j],\n",
       "       [-0.00790412+1.11598191e-02j,  0.00312356+3.51325935e-21j,\n",
       "        -0.00180342-9.49890414e-04j, -0.00081527+9.50555997e-03j],\n",
       "       [ 0.00359858-4.92651856e-03j, -0.00180342+9.49890414e-04j,\n",
       "         0.01009115-8.26215515e-21j,  0.01196095+1.15496570e-03j],\n",
       "       [ 0.47598535+1.04056871e-02j, -0.00081527-9.50555997e-03j,\n",
       "         0.01196095-1.15496570e-03j,  0.49130667-2.40669965e-19j]])"
      ]
     },
     "execution_count": 2,
     "metadata": {},
     "output_type": "execute_result"
    }
   ],
   "source": [
    "rho_approx"
   ]
  },
  {
   "cell_type": "code",
   "execution_count": 3,
   "id": "bb9315d8",
   "metadata": {},
   "outputs": [
    {
     "data": {
      "text/plain": [
       "(array([9.69890125e-01+4.92169345e-19j, 2.28341299e-02+7.44402168e-18j,\n",
       "        7.27574486e-03-1.02559568e-17j, 1.70439032e-11+8.30461137e-19j]),\n",
       " array([[ 0.70850456+0.j        , -0.59589954+0.00962557j,\n",
       "          0.14239983-0.22134368j,  0.27116639-0.00551651j],\n",
       "        [-0.00656282+0.0150935j ,  0.18950278-0.1000812j ,\n",
       "         -0.45798733+0.19826911j,  0.83948707+0.j        ],\n",
       "        [ 0.011424  -0.00263074j,  0.37703241+0.31555254j,\n",
       "          0.78102745+0.j        ,  0.37874025+0.06846662j],\n",
       "        [ 0.70524841+0.01541611j,  0.59762588+0.j        ,\n",
       "         -0.16875645+0.20780668j, -0.27081536+0.01506677j]]))"
      ]
     },
     "execution_count": 3,
     "metadata": {},
     "output_type": "execute_result"
    }
   ],
   "source": [
    "np.linalg.eig(rho_approx)"
   ]
  },
  {
   "cell_type": "code",
   "execution_count": null,
   "id": "be3fe2cf",
   "metadata": {},
   "outputs": [],
   "source": []
  }
 ],
 "metadata": {
  "kernelspec": {
   "display_name": "Python 3 (ipykernel)",
   "language": "python",
   "name": "python3"
  },
  "language_info": {
   "codemirror_mode": {
    "name": "ipython",
    "version": 3
   },
   "file_extension": ".py",
   "mimetype": "text/x-python",
   "name": "python",
   "nbconvert_exporter": "python",
   "pygments_lexer": "ipython3",
   "version": "3.10.10"
  }
 },
 "nbformat": 4,
 "nbformat_minor": 5
}
