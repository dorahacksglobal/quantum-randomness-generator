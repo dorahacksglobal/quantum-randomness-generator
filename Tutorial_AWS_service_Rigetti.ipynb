{
 "cells": [
  {
   "cell_type": "code",
   "execution_count": 1,
   "id": "795e897a",
   "metadata": {},
   "outputs": [],
   "source": [
    "from braket.aws import AwsDevice, AwsQuantumTask\n",
    "from braket.circuits import Circuit\n",
    "\n",
    "device = AwsDevice(\"arn:aws:braket:us-west-1::device/qpu/rigetti/Aspen-M-3\")"
   ]
  },
  {
   "cell_type": "code",
   "execution_count": null,
   "id": "33055965",
   "metadata": {},
   "outputs": [],
   "source": [
    "from core import TwoBitCircuit\n",
    "\n",
    "a0b0_circuit = TwoBitCircuit('a0b0').circuit\n",
    "\n",
    "result = device.run(a0b0_circuit, shots=1000).result()\n",
    "\n",
    "print(a0b0_circuit)"
   ]
  }
 ],
 "metadata": {
  "kernelspec": {
   "display_name": "Python 3 (ipykernel)",
   "language": "python",
   "name": "python3"
  },
  "language_info": {
   "codemirror_mode": {
    "name": "ipython",
    "version": 3
   },
   "file_extension": ".py",
   "mimetype": "text/x-python",
   "name": "python",
   "nbconvert_exporter": "python",
   "pygments_lexer": "ipython3",
   "version": "3.10.9"
  }
 },
 "nbformat": 4,
 "nbformat_minor": 5
}
